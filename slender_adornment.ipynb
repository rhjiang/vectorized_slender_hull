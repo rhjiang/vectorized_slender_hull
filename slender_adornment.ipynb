{
 "cells": [
  {
   "cell_type": "code",
   "execution_count": 1,
   "metadata": {},
   "outputs": [],
   "source": [
    "import matplotlib.pyplot as plt\n",
    "import numpy as np\n",
    "import math\n",
    "\n",
    "def plot_arc(ax, center, radius, start_point, end_point, resolution=50, **kwargs):\n",
    "    \"\"\"\n",
    "    Plot an arc based on a circle's center, radius, and start/end points.\n",
    "    \n",
    "    Parameters:\n",
    "    -----------\n",
    "    ax : matplotlib.axes.Axes\n",
    "        The axes to plot on.\n",
    "    center : tuple or array\n",
    "        (x, y) coordinates of the circle center.\n",
    "    radius : float\n",
    "        Radius of the circle.\n",
    "    start_point : tuple or array\n",
    "        (x, y) coordinates of the starting point of the arc.\n",
    "    end_point : tuple or array\n",
    "        (x, y) coordinates of the ending point of the arc.\n",
    "    resolution : int, optional\n",
    "        Number of points to use for the arc (default: 50).\n",
    "    **kwargs : dict\n",
    "        Additional keyword arguments to pass to plt.plot().\n",
    "    \n",
    "    Returns:\n",
    "    --------\n",
    "    line : matplotlib.lines.Line2D\n",
    "        The plotted line.\n",
    "    \"\"\"\n",
    "    # Calculate angles from the start and end points\n",
    "    start_dx = start_point[0] - center[0]\n",
    "    start_dy = start_point[1] - center[1]\n",
    "    end_dx = end_point[0] - center[0]\n",
    "    end_dy = end_point[1] - center[1]\n",
    "    \n",
    "    start_angle = math.atan2(start_dy, start_dx)\n",
    "    end_angle = math.atan2(end_dy, end_dx)\n",
    "    \n",
    "    # Verify points are on the circle (approximately)\n",
    "    start_dist = math.sqrt(start_dx**2 + start_dy**2)\n",
    "    end_dist = math.sqrt(end_dx**2 + end_dy**2)\n",
    "    \n",
    "    if abs(start_dist - radius) > 1e-10 or abs(end_dist - radius) > 1e-10:\n",
    "        raise ValueError(f\"Points must be on the circle. Start dist: {start_dist}, End dist: {end_dist}, Radius: {radius}\")\n",
    "    \n",
    "    # Determine the correct arc direction\n",
    "    # We need to decide whether to go clockwise or counterclockwise from start to end\n",
    "    # This is a bit tricky as we need to consider the shorter arc by default\n",
    "    \n",
    "    # Calculate the angle difference, ensuring it's between -π and π\n",
    "    angle_diff = end_angle - start_angle\n",
    "    if angle_diff > math.pi:\n",
    "        angle_diff -= 2 * math.pi\n",
    "    elif angle_diff < -math.pi:\n",
    "        angle_diff += 2 * math.pi\n",
    "    \n",
    "    # Generate the arc based on angle difference direction\n",
    "    if angle_diff >= 0:\n",
    "        # Counterclockwise arc\n",
    "        theta = np.linspace(start_angle, start_angle + angle_diff, resolution)\n",
    "    else:\n",
    "        # Clockwise arc\n",
    "        theta = np.linspace(start_angle, start_angle + angle_diff, resolution)\n",
    "    \n",
    "    # Calculate points on the arc\n",
    "    x = center[0] + radius * np.cos(theta)\n",
    "    y = center[1] + radius * np.sin(theta)\n",
    "    \n",
    "    # Plot the arc\n",
    "    line, = ax.plot(x, y, **kwargs)\n",
    "    \n",
    "    return line\n",
    "\n",
    "def compute_intersection_arc_poly(arc_circ_center, arc_source, polygon_points):\n",
    "    intersections = []\n",
    "    rad = np.linalg.norm(arc_circ_center-arc_source)\n",
    "    for i in range(len(polygon_points)-1):\n",
    "        seg = [polygon_points[i], polygon_points[i+1]]\n",
    "        d1 = np.linalg.norm(arc_circ_center- seg[0])\n",
    "        d2 = np.linalg.norm(arc_circ_center- seg[1])\n",
    "        if d1<rad and d2<rad:\n",
    "            intersections.append(None)\n",
    "            continue\n",
    "        if d1>rad and d2>rad:\n",
    "            intersections.append(None)\n",
    "            continue\n",
    "\n",
    "        #there exists an intersection\n",
    "        p1 = seg[0]-arc_circ_center\n",
    "        p2 = seg[1]-arc_circ_center\n",
    "        A = np.linalg.norm(p1)**2+np.linalg.norm(p2)**2 - 2* np.dot(p1,p2)\n",
    "        B = 2*(-np.linalg.norm(p2)**2 + np.dot(p1,p2))\n",
    "        C = -rad**2+ np.linalg.norm(p2)**2\n",
    "\n",
    "        disc = np.sqrt(B**2-4*A*C)\n",
    "        sol1 = (-B + disc)/(2*A)\n",
    "        sol2 = (-B - disc)/(2*A)\n",
    "        if sol1<=1 and sol1 >=0:\n",
    "            assert sol2>1 or sol2 <0\n",
    "            sol = sol1\n",
    "        else:\n",
    "            assert sol2<=1 and sol2 >=0\n",
    "            sol = sol2\n",
    "\n",
    "        intersections.append(p1*sol + p2*(1-sol))\n",
    "    return intersections"
   ]
  },
  {
   "cell_type": "code",
   "execution_count": 2,
   "metadata": {},
   "outputs": [
    {
     "data": {
      "text/plain": [
       "<matplotlib.collections.PathCollection at 0x75536bedd810>"
      ]
     },
     "execution_count": 2,
     "metadata": {},
     "output_type": "execute_result"
    },
    {
     "data": {
      "image/png": "[encoded data removed]",
      "text/plain": [
       "<Figure size 432x288 with 1 Axes>"
      ]
     },
     "metadata": {
      "needs_background": "light"
     },
     "output_type": "display_data"
    }
   ],
   "source": [
    "fig, ax = plt.subplots()\n",
    "def plot_adornment_poly(ax, points):\n",
    "    ax.plot(points[:,0], points[:,1])\n",
    "    ax.plot([points[0,0], points[-1,0]], [points[0,1], points[-1,1]])\n",
    "    ax.axis('equal')\n",
    "points = np.array([\n",
    "    [0, 0],\n",
    "    [0.2, 0.2],\n",
    "    [0.5, 0.2],\n",
    "    [0.6, 0.6],\n",
    "    [0.6, 0.2],\n",
    "    [0.8, 0.2],\n",
    "    [0.8, 0.6],\n",
    "    [0.9, 0.2],\n",
    "    [1.2, 0.2],\n",
    "    [1.4,0]\n",
    "])\n",
    "\n",
    "plot_adornment_poly(ax, points)\n",
    "intersections = compute_intersection_arc_poly(np.array([0,0]), np.array([0,0.5]), points)\n",
    "ints = np.array([i for i in intersections if i is not None])\n",
    "plot_arc(ax, [0,0], 0.5, [0.0, 0.5], [0.5,0])\n",
    "ax.scatter(ints[:,0], ints[:,1])"
   ]
  },
  {
   "cell_type": "code",
   "execution_count": 3,
   "metadata": {},
   "outputs": [
    {
     "data": {
      "image/png": "[encoded data removed]",
      "text/plain": [
       "<Figure size 432x288 with 1 Axes>"
      ]
     },
     "metadata": {
      "needs_background": "light"
     },
     "output_type": "display_data"
    }
   ],
   "source": [
    "fig, ax = plt.subplots()\n",
    "plot_adornment_poly(ax, points)\n",
    "\n",
    "# right lenses\n",
    "center = np.array([0,0])\n",
    "for pt in points:\n",
    "    radius = np.linalg.norm(pt-center)\n",
    "    bot_int = np.array([radius, 0])\n",
    "    plot_arc(ax, center, radius, pt, bot_int, color = 'r')\n",
    "\n",
    "# left lenses\n",
    "center = np.array([np.max(points[:,0]), 0])\n",
    "\n",
    "for pt in points:\n",
    "    radius = np.linalg.norm(pt-center)\n",
    "    bot_int = np.array([center[0]-radius, 0])\n",
    "    plot_arc(ax, center, radius, bot_int, pt, color = 'r')"
   ]
  },
  {
   "cell_type": "code",
   "execution_count": 4,
   "metadata": {},
   "outputs": [],
   "source": [
    "class LineSegment:\n",
    "    def __init__(self, start, end):\n",
    "        self.start = start\n",
    "        self.end = end\n",
    "\n",
    "class Arc:\n",
    "    def __init__(self, center, radius, left_boundary_point, right_boundary_point, is_left_arc):\n",
    "        self.center = center\n",
    "        self.radius = radius\n",
    "        self.left_boundary_point = left_boundary_point\n",
    "        self.right_boundary_point = right_boundary_point\n",
    "        cords1 = left_boundary_point-self.center\n",
    "        cords2 = right_boundary_point-self.center\n",
    "        self.theta_start = np.arctan2(cords1[1], cords1[0])\n",
    "        self.theta_end = np.arctan2(cords2[1], cords2[0])\n",
    "        self.range = [np.min([self.theta_start, self.theta_end]), np.max([self.theta_start, self.theta_end])]\n",
    "        self.is_left_arc = is_left_arc\n",
    "    \n",
    "    def angle_containted(self, theta):\n",
    "        return self.range[0]<= theta and self.range[1]>= theta"
   ]
  },
  {
   "cell_type": "code",
   "execution_count": 5,
   "metadata": {},
   "outputs": [],
   "source": [
    "def get_intersections_circles(x0, y0, r0, x1, y1, r1):\n",
    "    # circle 1: (x0, y0), radius r0\n",
    "    # circle 2: (x1, y1), radius r1\n",
    "\n",
    "    d=math.sqrt((x1-x0)**2 + (y1-y0)**2)\n",
    "    \n",
    "    # non intersecting\n",
    "    if d > r0 + r1 :\n",
    "        return None\n",
    "    # One circle within other\n",
    "    if d < abs(r0-r1):\n",
    "        return None\n",
    "    # coincident circles\n",
    "    if d == 0 and r0 == r1:\n",
    "        return None\n",
    "    else:\n",
    "        a=(r0**2-r1**2+d**2)/(2*d)\n",
    "        h=math.sqrt(r0**2-a**2)\n",
    "        x2=x0+a*(x1-x0)/d   \n",
    "        y2=y0+a*(y1-y0)/d   \n",
    "        x3=x2+h*(y1-y0)/d     \n",
    "        y3=y2-h*(x1-x0)/d \n",
    "\n",
    "        x4=x2-h*(y1-y0)/d\n",
    "        y4=y2+h*(x1-x0)/d\n",
    "        \n",
    "        return (x3, y3, x4, y4)\n",
    "    \n",
    "def compute_arc_arc_intersection(arc_1 : Arc, arc_2 : Arc):\n",
    "    dist = np.linalg.norm(arc_1.center - arc_2.center)\n",
    "    if dist> arc_1.radius + arc_2.radius:\n",
    "        return []\n",
    "    \n",
    "    #circles intersect \n",
    "    ints = get_intersections_circles(arc_1.center[0],\n",
    "                                     arc_1.center[1],\n",
    "                                     arc_1.radius,\n",
    "                                     arc_2.center[0],\n",
    "                                     arc_2.center[1],\n",
    "                                     arc_2.radius)\n",
    "    assert ints is not None\n",
    "    int1 = np.array([ints[0], ints[1]])\n",
    "    int2 = np.array([ints[2], ints[3]])\n",
    "    intersections = []\n",
    "    #check if the intersections are actually part of the arcs\n",
    "    #intersection 1\n",
    "    for intersection in [int1, int2]:\n",
    "        cords1 = intersection-arc_1.center\n",
    "        theta_int1 = np.arctan2(cords1[1], cords1[0])\n",
    "        cords2 = intersection-arc_2.center\n",
    "        theta_int2 = np.arctan2(cords2[1], cords2[0])\n",
    "\n",
    "        if arc_1.angle_containted(theta_int1) and arc_2.angle_containted(theta_int2):\n",
    "            intersections.append(intersection)\n",
    "    return intersections\n",
    "\n",
    "def compute_arc_line_segment_intersection(arc, line_segment):\n",
    "    rad = arc.radius\n",
    "\n",
    "    d1 = np.linalg.norm(arc.center- line_segment.start)\n",
    "    d2 = np.linalg.norm(arc.center- line_segment.end)\n",
    "    if d1<rad and d2<rad:\n",
    "        return []\n",
    "    if d1>rad and d2>rad:\n",
    "        return []\n",
    "\n",
    "    #there exists an intersection\n",
    "    p1 = line_segment.start-arc.center\n",
    "    p2 = line_segment.end-arc.center\n",
    "    A = np.linalg.norm(p1)**2+np.linalg.norm(p2)**2 - 2* np.dot(p1,p2)\n",
    "    B = 2*(-np.linalg.norm(p2)**2 + np.dot(p1,p2))\n",
    "    C = -rad**2+ np.linalg.norm(p2)**2\n",
    "\n",
    "    disc = np.sqrt(B**2-4*A*C)\n",
    "    sol1 = (-B + disc)/(2*A)\n",
    "    sol2 = (-B - disc)/(2*A)\n",
    "    intersections = []\n",
    "    if sol1<=1 and sol1>=0:\n",
    "        intersections.append(p1*sol1 + p2*(1-sol1))\n",
    "    if sol2<=1 and sol2>=0:\n",
    "        intersections.append(p1*sol2 + p2*(1-sol2))\n",
    "\n",
    "    return intersections"
   ]
  },
  {
   "cell_type": "code",
   "execution_count": 6,
   "metadata": {},
   "outputs": [],
   "source": [
    "from typing import Union\n",
    "\n",
    "def compute_arc_intersections(arc :Arc, boundary : list[Union[Arc,LineSegment]], tol=1e-6):\n",
    "    intersections = []\n",
    "    for element in boundary:\n",
    "        if isinstance(element, LineSegment):\n",
    "            element_intersections = compute_arc_line_segment_intersection(arc, element)\n",
    "        else:\n",
    "            assert isinstance(element, Arc)\n",
    "            element_intersections = compute_arc_arc_intersection(arc, element)\n",
    "        intersections.extend(element_intersections)\n",
    "\n",
    "    if not len(intersections):\n",
    "        return None\n",
    "    if arc.is_left_arc:\n",
    "        point_to_toss = arc.right_boundary_point\n",
    "    else:\n",
    "        point_to_toss = arc.left_boundary_point\n",
    "    \n",
    "    #go through ints if find then toss\n",
    "    intersections = [intersection for intersection in intersections if np.linalg.norm(intersection - point_to_toss) > tol]\n",
    "    #compute angles of intersections\n",
    "    angs = [np.arctan2(intersection-arc.center[1], intersection-arc.center[0]) for intersection in intersections]\n",
    "\n",
    "    if arc.is_left_arc:\n",
    "        idx = np.argmin(angs)\n",
    "    else:\n",
    "        idx = np.argmax(angs)\n",
    "\n",
    "    return intersections[idx]\n"
   ]
  },
  {
   "cell_type": "code",
   "execution_count": 33,
   "metadata": {},
   "outputs": [],
   "source": [
    "def put_arc_in_slender_hull(arc :Arc, i_segment_origin, slender_hull : list[Union[Arc,LineSegment]], tol=1e-6):\n",
    "    intersections = []\n",
    "    source_component_inds = []\n",
    "    for i_element, element in enumerate(slender_hull):\n",
    "        if isinstance(element, LineSegment):\n",
    "            element_intersections = compute_arc_line_segment_intersection(arc, element)\n",
    "        else:\n",
    "            assert isinstance(element, Arc)\n",
    "            element_intersections = compute_arc_arc_intersection(arc, element)\n",
    "        intersections.extend(element_intersections)\n",
    "        source_component_inds.extend([i_element]*len(element_intersections))\n",
    "\n",
    "    if not len(intersections):\n",
    "        return None\n",
    "    if arc.is_left_arc:\n",
    "        point_to_toss = arc.right_boundary_point\n",
    "    else:\n",
    "        point_to_toss = arc.left_boundary_point\n",
    "    \n",
    "    #go through ints if find then toss\n",
    "    intersections = [intersection for intersection in intersections if np.linalg.norm(intersection - point_to_toss) > tol]\n",
    "    #compute angles of intersections\n",
    "    angs = [np.arctan2(intersection-arc.center[1], intersection-arc.center[0]) for intersection in intersections]\n",
    "\n",
    "    if arc.is_left_arc:\n",
    "        idx = np.argmin(angs)\n",
    "    else:\n",
    "        idx = np.argmax(angs)\n",
    "\n",
    "    intersection = intersections[idx]\n",
    "    src_ind = source_component_inds[idx]\n",
    "\n",
    "    # updated_slender_hull = []\n",
    "    # for i in range(len(slender_hull)):\n",
    "    #     if i < src_ind and i < i_segment_origin:\n",
    "    #         updated_slender_hull.append(slender_hull[i])\n",
    "    #     elif arc.is_left_arc and i >= src_ind:\n",
    "    #         assert src_ind <= i_segment_origin\n",
    "    #         do something\n",
    "    #     elif (not arc.is_left_arc) and i >= i_segment_origin:\n",
    "    #         assert i_segment_origin <= src_ind\n",
    "    #         do something\n",
    "    #     elif i > src_ind and i > i_segment_origin:\n",
    "    #         updated_slender_hull.append(slender_hull[i])\n",
    "    if arc.is_left_arc:\n",
    "        assert src_ind <= i_segment_origin\n",
    "        before_arc = slender_hull[:src_ind]\n",
    "        after_arc = slender_hull[i_segment_origin+1:]\n",
    "        # trim the intersecting segment\n",
    "        elem = slender_hull[src_ind]\n",
    "        if isinstance(slender_hull[src_ind], LineSegment):\n",
    "            trimmed_element = LineSegment(elem.start, intersection)\n",
    "        else:\n",
    "            # we know it's a right arc\n",
    "            assert not elem.is_left_arc\n",
    "            trimmed_element = Arc(elem.center, elem.radius, elem.start, intersection, is_left_arc=False)\n",
    "        updated_slender_hull = before_arc + trimmed_element + after_arc\n",
    "    else: \n",
    "        assert i_segment_origin <= src_ind\n",
    "        before_arc = slender_hull[:i_segment_origin]\n",
    "        after_arc = slender_hull[src_ind+1:]\n",
    "        # trim the intersecting segment\n",
    "        elem = slender_hull[src_ind]\n",
    "        if isinstance(slender_hull[src_ind], LineSegment):\n",
    "            trimmed_element = LineSegment(intersection, elem.end)\n",
    "        else:\n",
    "            # we know it's a left arc\n",
    "            assert elem.is_left_arc\n",
    "            trimmed_element = Arc(elem.center, elem.radius, intersection, elem.end, is_left_arc=True)\n",
    "        updated_slender_hull = before_arc + trimmed_element + after_arc\n",
    "    \n",
    "\n",
    "    return updated_slender_hull\n",
    "\n",
    "    # update the component that is intersected with\n",
    "    # delete elements in between\n"
   ]
  },
  {
   "cell_type": "code",
   "execution_count": 7,
   "metadata": {},
   "outputs": [
    {
     "name": "stdout",
     "output_type": "stream",
     "text": [
      "[]\n"
     ]
    }
   ],
   "source": [
    "list_1 = []\n",
    "list_1.extend([])\n",
    "print(list_1)"
   ]
  },
  {
   "cell_type": "code",
   "execution_count": 21,
   "metadata": {},
   "outputs": [
    {
     "data": {
      "text/plain": [
       "array([[0. , 0. ],\n",
       "       [0.2, 0.2],\n",
       "       [0.5, 0.2],\n",
       "       [0.6, 0.6],\n",
       "       [0.6, 0.2],\n",
       "       [0.8, 0.2],\n",
       "       [0.8, 0.6],\n",
       "       [0.9, 0.2],\n",
       "       [1.2, 0.2],\n",
       "       [1.4, 0. ]])"
      ]
     },
     "execution_count": 21,
     "metadata": {},
     "output_type": "execute_result"
    }
   ],
   "source": [
    "points"
   ]
  },
  {
   "cell_type": "code",
   "execution_count": null,
   "metadata": {},
   "outputs": [
    {
     "data": {
      "image/png": "[encoded data removed]",
      "text/plain": [
       "<Figure size 432x288 with 1 Axes>"
      ]
     },
     "metadata": {
      "needs_background": "light"
     },
     "output_type": "display_data"
    }
   ],
   "source": [
    "boundary = []\n",
    "for i in range(len(points)-1):\n",
    "    boundary.append(LineSegment(points[i,:], points[i+1,:]))\n",
    "\n",
    "right_arcs = []\n",
    "left_arcs = []\n",
    "# right lenses\n",
    "right_center = np.array([0,0])\n",
    "# for pt in points:\n",
    "#     radius = np.linalg.norm(pt-center)\n",
    "#     bot_intersection = np.array([radius, 0])\n",
    "#     right_arcs.append(Arc(center, radius, pt, bot_intersection, False))\n",
    "\n",
    "# left lenses\n",
    "left_center = np.array([np.max(points[:,0]), 0])\n",
    "# for pt in points:\n",
    "#     radius = np.linalg.norm(pt-center)\n",
    "#     bot_intersection = np.array([center[0]-radius, 0])\n",
    "#     left_arcs.append(Arc(center, radius, bot_intersection, pt, True))\n",
    "fig, ax = plt.subplots()\n",
    "plot_adornment_poly(ax, points)\n",
    "arcs = []\n",
    "slender_hull = boundary\n",
    "for i_vert, vert in enumerate(points):\n",
    "    if i_vert > 0 and i_vert < len(points)-1:\n",
    "        # left arc\n",
    "        radius = np.linalg.norm(vert-left_center)\n",
    "        bot_intersection = np.array([center[0]-radius, 0])\n",
    "        left_arc = Arc(left_center, radius, bot_intersection, vert, True)\n",
    "        \n",
    "\n",
    "        # check if arc is under corresponding segment\n",
    "        segment_delta = vert - points[i_vert-1]\n",
    "        segment_angle = np.arctan2(segment_delta[1], segment_delta[0])\n",
    "        arc_delta = vert - left_center\n",
    "        arc_tangent_angle = np.arctan2(arc_delta[1], arc_delta[0]) - np.pi/2\n",
    "        # print(f\" segment delta {segment_delta}\")\n",
    "        # print(f\" segment agnle {segment_angle}\")\n",
    "        # print(f\"vert {vert}\")\n",
    "        if arc_tangent_angle < segment_angle:\n",
    "            plot_arc(ax, left_center, radius, vert, bot_intersection, color = 'r')\n",
    "            \n",
    "            # update slender adornment\n",
    "            i_origin_segment = slender_hull.index(boundary[i_vert-1])\n",
    "            # TODO not sure how to get the right index of origin segment.  not sure how to loop ver only points that still exist.  perhaps use index list function\n",
    "            slender_hull = put_arc_in_slender_hull(left_arc, )\n",
    "\n",
    "        # right arc\n",
    "        radius = np.linalg.norm(vert-right_center)\n",
    "        bot_intersection = np.array([radius, 0])\n",
    "        right_arc = Arc(right_center, radius, vert, bot_intersection, False)\n",
    "\n",
    "        # check if arc is under corresponding segment\n",
    "        segment_delta = points[i_vert+1] - vert\n",
    "        segment_angle = np.arctan2(segment_delta[1], segment_delta[0])\n",
    "        arc_delta = vert - right_center\n",
    "        arc_tangent_angle = np.arctan2(arc_delta[1], arc_delta[0]) - np.pi/2\n",
    "\n",
    "        if arc_tangent_angle > segment_angle:\n",
    "            # arcs.append(left_arc)\n",
    "            plot_arc(ax, right_center, radius, vert, bot_intersection, color = 'r')\n",
    "    \n",
    "\n",
    "########\n",
    "# initialize slender adornment as poly CHECK\n",
    "# for each vert in poly\n",
    "    # for left and right\n",
    "        # generate arc CHECK\n",
    "        # check if arc is under corresponding segment CHECK\n",
    "        # if not:\n",
    "            # compute intersections with slender adornment\n",
    "            # insert it into adornment; chuck everything between closest intersection and vert (source vert to arc)\n",
    "\n"
   ]
  },
  {
   "cell_type": "code",
   "execution_count": 23,
   "metadata": {},
   "outputs": [
    {
     "data": {
      "text/plain": [
       "-1.4056476493802696"
      ]
     },
     "execution_count": 23,
     "metadata": {},
     "output_type": "execute_result"
    }
   ],
   "source": [
    "arc_tangent_angle"
   ]
  },
  {
   "cell_type": "code",
   "execution_count": 19,
   "metadata": {},
   "outputs": [
    {
     "data": {
      "text/plain": [
       "array([1.4, 0. ])"
      ]
     },
     "execution_count": 19,
     "metadata": {},
     "output_type": "execute_result"
    }
   ],
   "source": [
    "vert"
   ]
  },
  {
   "cell_type": "code",
   "execution_count": 18,
   "metadata": {},
   "outputs": [
    {
     "data": {
      "text/plain": [
       "-0.7853981633974484"
      ]
     },
     "execution_count": 18,
     "metadata": {},
     "output_type": "execute_result"
    }
   ],
   "source": [
    "segment_angle"
   ]
  },
  {
   "cell_type": "code",
   "execution_count": null,
   "metadata": {},
   "outputs": [],
   "source": [
    "# find normals at vertices\n",
    "# then compare to 'correct' sphere normal"
   ]
  },
  {
   "cell_type": "code",
   "execution_count": null,
   "metadata": {},
   "outputs": [],
   "source": [
    "# for each vert\n",
    "# calculate the lens\n",
    "# check the boundary of the lens for intersections with the poly."
   ]
  },
  {
   "cell_type": "code",
   "execution_count": 3,
   "metadata": {},
   "outputs": [
    {
     "data": {
      "text/plain": [
       "<matplotlib.lines.Line2D at 0x1130552d0>"
      ]
     },
     "execution_count": 3,
     "metadata": {},
     "output_type": "execute_result"
    },
    {
     "data": {
      "image/png": "[encoded data removed]",
      "text/plain": [
       "<Figure size 640x480 with 1 Axes>"
      ]
     },
     "metadata": {},
     "output_type": "display_data"
    }
   ],
   "source": [
    "#assume base is 0-1 along x axis\n",
    "def plot_adornment_poly(ax, points):\n",
    "    ax.plot(points[:,0], points[:,1])\n",
    "    ax.plot([points[0,0], points[-1,0]], [points[0,1], points[-1,1]])\n",
    "    ax.axis('equal')\n",
    "\n",
    "fig, ax = plt.subplots()\n",
    "\n",
    "points = np.array([\n",
    "    [0, 0],\n",
    "    [0.2, 0.2],\n",
    "    [0.5, 0.2],\n",
    "    [0.6, 0.6],\n",
    "    [0.6, 0.2],\n",
    "    [0.8, 0.2],\n",
    "    [0.8, 0.6],\n",
    "    [0.9, 0.2],\n",
    "    [1.2, 0.2],\n",
    "    [1.4,0]\n",
    "])\n",
    "\n",
    "plot_adornment_poly(ax, points)\n",
    "plot_arc(ax, [0,0], 0.5, [0.0, 0.5], [0.5,0])"
   ]
  },
  {
   "cell_type": "code",
   "execution_count": 4,
   "metadata": {},
   "outputs": [
    {
     "ename": "SyntaxError",
     "evalue": "unterminated string literal (detected at line 163) (201026837.py, line 163)",
     "output_type": "error",
     "traceback": [
      "\u001b[0;36m  Cell \u001b[0;32mIn[4], line 163\u001b[0;36m\u001b[0m\n\u001b[0;31m    You're right, let's simplify and focus on plotting a single arc first. Here's how you can plot a single arc in matplotlib:\u001b[0m\n\u001b[0m                                                                               ^\u001b[0m\n\u001b[0;31mSyntaxError\u001b[0m\u001b[0;31m:\u001b[0m unterminated string literal (detected at line 163)\n"
     ]
    }
   ],
   "source": []
  },
  {
   "cell_type": "code",
   "execution_count": 3,
   "metadata": {},
   "outputs": [
    {
     "data": {
      "image/png": "[encoded data removed]",
      "text/plain": [
       "<Figure size 800x800 with 1 Axes>"
      ]
     },
     "metadata": {},
     "output_type": "display_data"
    }
   ],
   "source": [
    "import numpy as np\n",
    "import matplotlib.pyplot as plt\n",
    "import math\n",
    "\n",
    "def plot_arc(ax, center, radius, start_point, end_point, resolution=50, **kwargs):\n",
    "    \"\"\"\n",
    "    Plot an arc based on a circle's center, radius, and start/end points.\n",
    "    \n",
    "    Parameters:\n",
    "    -----------\n",
    "    ax : matplotlib.axes.Axes\n",
    "        The axes to plot on.\n",
    "    center : tuple or array\n",
    "        (x, y) coordinates of the circle center.\n",
    "    radius : float\n",
    "        Radius of the circle.\n",
    "    start_point : tuple or array\n",
    "        (x, y) coordinates of the starting point of the arc.\n",
    "    end_point : tuple or array\n",
    "        (x, y) coordinates of the ending point of the arc.\n",
    "    resolution : int, optional\n",
    "        Number of points to use for the arc (default: 50).\n",
    "    **kwargs : dict\n",
    "        Additional keyword arguments to pass to plt.plot().\n",
    "    \n",
    "    Returns:\n",
    "    --------\n",
    "    line : matplotlib.lines.Line2D\n",
    "        The plotted line.\n",
    "    \"\"\"\n",
    "    # Calculate angles from the start and end points\n",
    "    start_dx = start_point[0] - center[0]\n",
    "    start_dy = start_point[1] - center[1]\n",
    "    end_dx = end_point[0] - center[0]\n",
    "    end_dy = end_point[1] - center[1]\n",
    "    \n",
    "    start_angle = math.atan2(start_dy, start_dx)\n",
    "    end_angle = math.atan2(end_dy, end_dx)\n",
    "    \n",
    "    # Verify points are on the circle (approximately)\n",
    "    start_dist = math.sqrt(start_dx**2 + start_dy**2)\n",
    "    end_dist = math.sqrt(end_dx**2 + end_dy**2)\n",
    "    \n",
    "    if abs(start_dist - radius) > 1e-10 or abs(end_dist - radius) > 1e-10:\n",
    "        raise ValueError(f\"Points must be on the circle. Start dist: {start_dist}, End dist: {end_dist}, Radius: {radius}\")\n",
    "    \n",
    "    # Determine the correct arc direction\n",
    "    # We need to decide whether to go clockwise or counterclockwise from start to end\n",
    "    # This is a bit tricky as we need to consider the shorter arc by default\n",
    "    \n",
    "    # Calculate the angle difference, ensuring it's between -π and π\n",
    "    angle_diff = end_angle - start_angle\n",
    "    if angle_diff > math.pi:\n",
    "        angle_diff -= 2 * math.pi\n",
    "    elif angle_diff < -math.pi:\n",
    "        angle_diff += 2 * math.pi\n",
    "    \n",
    "    # Generate the arc based on angle difference direction\n",
    "    if angle_diff >= 0:\n",
    "        # Counterclockwise arc\n",
    "        theta = np.linspace(start_angle, start_angle + angle_diff, resolution)\n",
    "    else:\n",
    "        # Clockwise arc\n",
    "        theta = np.linspace(start_angle, start_angle + angle_diff, resolution)\n",
    "    \n",
    "    # Calculate points on the arc\n",
    "    x = center[0] + radius * np.cos(theta)\n",
    "    y = center[1] + radius * np.sin(theta)\n",
    "    \n",
    "    # Plot the arc\n",
    "    line, = ax.plot(x, y, **kwargs)\n",
    "    \n",
    "    return line\n",
    "\n",
    "# Example usage\n",
    "fig, ax = plt.subplots(figsize=(8, 8))\n",
    "\n",
    "# Define circle parameters\n",
    "center = [0, 0]\n",
    "radius = 2\n",
    "\n",
    "# Calculate points on the circle\n",
    "pt1 = [radius, 0]  # Point at 0 degrees\n",
    "pt2 = [0, radius]  # Point at 90 degrees\n",
    "pt3 = [-radius/2, -radius*math.sqrt(3)/2]  # Point at 240 degrees\n",
    "\n",
    "# Plot a full circle for reference (gray, dashed)\n",
    "angles = np.linspace(0, 2*math.pi, 100)\n",
    "circle_x = center[0] + radius * np.cos(angles)\n",
    "circle_y = center[1] + radius * np.sin(angles)\n",
    "ax.plot(circle_x, circle_y, 'gray', linestyle='--', alpha=0.5)\n",
    "\n",
    "# Plot different arcs between the points\n",
    "plot_arc(ax, center, radius, pt1, pt2, color='blue', linewidth=2)\n",
    "plot_arc(ax, center, radius, pt2, pt3, color='red', linewidth=2)\n",
    "plot_arc(ax, center, radius, pt3, pt1, color='green', linewidth=2)\n",
    "\n",
    "# Plot the points\n",
    "ax.plot([pt1[0], pt2[0], pt3[0]], [pt1[1], pt2[1], pt3[1]], 'ko')\n",
    "ax.plot(center[0], center[1], 'ro')  # Center point\n",
    "\n",
    "# Add some labels and grid\n",
    "ax.set_xlim(center[0] - radius*1.2, center[0] + radius*1.2)\n",
    "ax.set_ylim(center[1] - radius*1.2, center[1] + radius*1.2)\n",
    "ax.set_aspect('equal')\n",
    "ax.grid(True)\n",
    "ax.set_title('Arcs with Center, Radius, and Points')\n",
    "plt.show()"
   ]
  },
  {
   "cell_type": "code",
   "execution_count": null,
   "metadata": {},
   "outputs": [],
   "source": []
  }
 ],
 "metadata": {
  "kernelspec": {
   "display_name": "Python 3",
   "language": "python",
   "name": "python3"
  },
  "language_info": {
   "codemirror_mode": {
    "name": "ipython",
    "version": 3
   },
   "file_extension": ".py",
   "mimetype": "text/x-python",
   "name": "python",
   "nbconvert_exporter": "python",
   "pygments_lexer": "ipython3",
   "version": "3.10.12"
  },
  "orig_nbformat": 4
 },
 "nbformat": 4,
 "nbformat_minor": 2
}
